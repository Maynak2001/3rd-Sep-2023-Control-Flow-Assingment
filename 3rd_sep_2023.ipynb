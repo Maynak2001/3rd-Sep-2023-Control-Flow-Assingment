{
 "cells": [
  {
   "cell_type": "code",
   "execution_count": 1,
   "id": "14be2de3-828f-4a82-9390-96b413556410",
   "metadata": {},
   "outputs": [
    {
     "name": "stdin",
     "output_type": "stream",
     "text": [
      "Enter a number:  40\n"
     ]
    },
    {
     "name": "stdout",
     "output_type": "stream",
     "text": [
      "The number 40.0 is Positive.\n"
     ]
    }
   ],
   "source": [
    "# Function to check if a number is positive or negative\n",
    "def check_positive_negative(number):\n",
    "    if number > 0:\n",
    "        return \"Positive\"\n",
    "    elif number < 0:\n",
    "        return \"Negative\"\n",
    "    else:\n",
    "        return \"Zero\"\n",
    "\n",
    "# Taking user input\n",
    "user_input = float(input(\"Enter a number: \"))\n",
    "\n",
    "# Calling the function and printing the result\n",
    "result = check_positive_negative(user_input)\n",
    "print(f\"The number {user_input} is {result}.\")\n"
   ]
  },
  {
   "cell_type": "code",
   "execution_count": 2,
   "id": "76ce7116-8053-44c2-8af2-b6cb1fa4f578",
   "metadata": {},
   "outputs": [
    {
     "name": "stdin",
     "output_type": "stream",
     "text": [
      "Enter your age:  15\n"
     ]
    },
    {
     "name": "stdout",
     "output_type": "stream",
     "text": [
      "Sorry, you are not eligible to vote yet.\n"
     ]
    }
   ],
   "source": [
    "# Function to check voting eligibility\n",
    "def check_voting_eligibility(age):\n",
    "    if age >= 18:\n",
    "        return \"You are eligible to vote.\"\n",
    "    else:\n",
    "        return \"Sorry, you are not eligible to vote yet.\"\n",
    "\n",
    "# Taking user input for age\n",
    "try:\n",
    "    age = int(input(\"Enter your age: \"))\n",
    "    # Calling the function and printing the result\n",
    "    result = check_voting_eligibility(age)\n",
    "    print(result)\n",
    "except ValueError:\n",
    "    print(\"Please enter a valid age as a number.\")\n"
   ]
  },
  {
   "cell_type": "code",
   "execution_count": 3,
   "id": "709c38f3-4242-4830-9f70-ea82b663468f",
   "metadata": {},
   "outputs": [
    {
     "name": "stdin",
     "output_type": "stream",
     "text": [
      "Enter the first number:  5\n",
      "Enter the second number:  9\n"
     ]
    },
    {
     "name": "stdout",
     "output_type": "stream",
     "text": [
      "The maximum of 5.0 and 9.0 is: 9.0\n"
     ]
    }
   ],
   "source": [
    "# Function to find the maximum of two numbers\n",
    "def find_maximum(num1, num2):\n",
    "    if num1 > num2:\n",
    "        return num1\n",
    "    else:\n",
    "        return num2\n",
    "\n",
    "# Taking user input for two numbers\n",
    "try:\n",
    "    number1 = float(input(\"Enter the first number: \"))\n",
    "    number2 = float(input(\"Enter the second number: \"))\n",
    "    \n",
    "    # Calling the function and printing the result\n",
    "    maximum = find_maximum(number1, number2)\n",
    "    print(f\"The maximum of {number1} and {number2} is: {maximum}\")\n",
    "except ValueError:\n",
    "    print(\"Please enter valid numbers.\")\n"
   ]
  },
  {
   "cell_type": "code",
   "execution_count": 4,
   "id": "bc6d5dbf-797f-4283-95f8-8ee5e61a9132",
   "metadata": {},
   "outputs": [
    {
     "name": "stdin",
     "output_type": "stream",
     "text": [
      "Enter a year:  2001\n"
     ]
    },
    {
     "name": "stdout",
     "output_type": "stream",
     "text": [
      "2001 is not a leap year.\n"
     ]
    }
   ],
   "source": [
    "# Function to check if a year is a leap year\n",
    "def is_leap_year(year):\n",
    "    if (year % 4 == 0 and year % 100 != 0) or (year % 400 == 0):\n",
    "        return True\n",
    "    else:\n",
    "        return False\n",
    "\n",
    "# Taking user input for the year\n",
    "try:\n",
    "    year = int(input(\"Enter a year: \"))\n",
    "    \n",
    "    # Calling the function and printing the result\n",
    "    if is_leap_year(year):\n",
    "        print(f\"{year} is a leap year.\")\n",
    "    else:\n",
    "        print(f\"{year} is not a leap year.\")\n",
    "except ValueError:\n",
    "    print(\"Please enter a valid year as a number.\")\n"
   ]
  },
  {
   "cell_type": "code",
   "execution_count": 5,
   "id": "79107561-0a45-498f-bc8a-d4345b267598",
   "metadata": {},
   "outputs": [
    {
     "name": "stdin",
     "output_type": "stream",
     "text": [
      "Enter a character:  My name is maynak\n"
     ]
    },
    {
     "name": "stdout",
     "output_type": "stream",
     "text": [
      "Please enter a valid single alphabet character.\n"
     ]
    }
   ],
   "source": [
    "# Function to check if a character is a vowel or consonant\n",
    "def check_vowel_consonant(char):\n",
    "    # Convert the character to lowercase for case-insensitivity\n",
    "    char = char.lower()\n",
    "    \n",
    "    if char.isalpha():\n",
    "        if char in \"aeiou\":\n",
    "            return \"Vowel\"\n",
    "        else:\n",
    "            return \"Consonant\"\n",
    "    else:\n",
    "        return \"Not a valid alphabet character\"\n",
    "\n",
    "# Taking user input for a character\n",
    "try:\n",
    "    user_input = input(\"Enter a character: \")\n",
    "    \n",
    "    # Checking if the entered character is a single alphabet character\n",
    "    if len(user_input) == 1 and user_input.isalpha():\n",
    "        result = check_vowel_consonant(user_input)\n",
    "        print(f\"The character '{user_input}' is a {result}.\")\n",
    "    else:\n",
    "        print(\"Please enter a valid single alphabet character.\")\n",
    "except ValueError:\n",
    "    print(\"Invalid input. Please enter a valid character.\")\n"
   ]
  },
  {
   "cell_type": "code",
   "execution_count": 6,
   "id": "e381fb55-4689-4577-8b32-3a0a98c6886c",
   "metadata": {},
   "outputs": [
    {
     "name": "stdin",
     "output_type": "stream",
     "text": [
      "Enter a number:  5\n"
     ]
    },
    {
     "name": "stdout",
     "output_type": "stream",
     "text": [
      "The number 5 is Odd.\n"
     ]
    }
   ],
   "source": [
    "# Function to check if a number is even or odd\n",
    "def check_even_odd(number):\n",
    "    if number % 2 == 0:\n",
    "        return \"Even\"\n",
    "    else:\n",
    "        return \"Odd\"\n",
    "\n",
    "# Taking user input for a number\n",
    "try:\n",
    "    user_input = int(input(\"Enter a number: \"))\n",
    "    \n",
    "    # Calling the function and printing the result\n",
    "    result = check_even_odd(user_input)\n",
    "    print(f\"The number {user_input} is {result}.\")\n",
    "except ValueError:\n",
    "    print(\"Please enter a valid number.\")\n"
   ]
  },
  {
   "cell_type": "code",
   "execution_count": 7,
   "id": "af49d5e7-00c8-4741-9651-889ccfec790e",
   "metadata": {},
   "outputs": [
    {
     "name": "stdin",
     "output_type": "stream",
     "text": [
      "Enter a number:  6\n"
     ]
    },
    {
     "name": "stdout",
     "output_type": "stream",
     "text": [
      "The absolute value of 6.0 is 6.0.\n"
     ]
    }
   ],
   "source": [
    "def calculate_absolute_value(number):\n",
    "    if number < 0:\n",
    "        return -number\n",
    "    else:\n",
    "        return number\n",
    "\n",
    "# Example usage:\n",
    "try:\n",
    "    user_input = float(input(\"Enter a number: \"))\n",
    "    result = calculate_absolute_value(user_input)\n",
    "    print(f\"The absolute value of {user_input} is {result}.\")\n",
    "except ValueError:\n",
    "    print(\"Please enter a valid number.\")\n"
   ]
  },
  {
   "cell_type": "code",
   "execution_count": 8,
   "id": "eb0c365e-450d-4089-87b7-5396f86d40aa",
   "metadata": {},
   "outputs": [
    {
     "name": "stdin",
     "output_type": "stream",
     "text": [
      "Enter the first number:  24\n",
      "Enter the second number:  51\n",
      "Enter the third number:  75\n"
     ]
    },
    {
     "name": "stdout",
     "output_type": "stream",
     "text": [
      "The largest of 24.0, 51.0, and 75.0 is: 75.0\n"
     ]
    }
   ],
   "source": [
    "# Function to find the largest of three numbers\n",
    "def find_largest(num1, num2, num3):\n",
    "    if num1 >= num2 and num1 >= num3:\n",
    "        return num1\n",
    "    elif num2 >= num1 and num2 >= num3:\n",
    "        return num2\n",
    "    else:\n",
    "        return num3\n",
    "\n",
    "# Taking user input for three numbers\n",
    "try:\n",
    "    number1 = float(input(\"Enter the first number: \"))\n",
    "    number2 = float(input(\"Enter the second number: \"))\n",
    "    number3 = float(input(\"Enter the third number: \"))\n",
    "    \n",
    "    # Calling the function and printing the result\n",
    "    largest = find_largest(number1, number2, number3)\n",
    "    print(f\"The largest of {number1}, {number2}, and {number3} is: {largest}\")\n",
    "except ValueError:\n",
    "    print(\"Please enter valid numbers.\")\n"
   ]
  },
  {
   "cell_type": "code",
   "execution_count": 9,
   "id": "39c45466-2dfa-4cbb-8c81-d16d897eae48",
   "metadata": {},
   "outputs": [
    {
     "name": "stdin",
     "output_type": "stream",
     "text": [
      "Enter a string:  Pwskills\n"
     ]
    },
    {
     "name": "stdout",
     "output_type": "stream",
     "text": [
      "The string 'Pwskills' is not a palindrome.\n"
     ]
    }
   ],
   "source": [
    "def is_palindrome(s):\n",
    "    # Remove spaces and convert to lowercase for case-insensitivity\n",
    "    s = s.replace(\" \", \"\").lower()\n",
    "    # Compare the string with its reverse\n",
    "    return s == s[::-1]\n",
    "\n",
    "# Taking user input for a string\n",
    "user_input = input(\"Enter a string: \")\n",
    "\n",
    "# Checking if the entered string is a palindrome\n",
    "if is_palindrome(user_input):\n",
    "    print(f\"The string '{user_input}' is a palindrome.\")\n",
    "else:\n",
    "    print(f\"The string '{user_input}' is not a palindrome.\")\n"
   ]
  },
  {
   "cell_type": "code",
   "execution_count": 10,
   "id": "3bbdf84f-f545-4a33-a498-eee46fa1e6d9",
   "metadata": {},
   "outputs": [
    {
     "name": "stdin",
     "output_type": "stream",
     "text": [
      "Enter the student's score:  89\n"
     ]
    },
    {
     "name": "stdout",
     "output_type": "stream",
     "text": [
      "The student's grade is: B\n"
     ]
    }
   ],
   "source": [
    "def calculate_grade(score):\n",
    "    if 90 <= score <= 100:\n",
    "        return \"A\"\n",
    "    elif 80 <= score < 90:\n",
    "        return \"B\"\n",
    "    elif 70 <= score < 80:\n",
    "        return \"C\"\n",
    "    elif 60 <= score < 70:\n",
    "        return \"D\"\n",
    "    elif 0 <= score < 60:\n",
    "        return \"F\"\n",
    "    else:\n",
    "        return \"Invalid Score\"\n",
    "\n",
    "# Taking user input for the student's score\n",
    "try:\n",
    "    score = float(input(\"Enter the student's score: \"))\n",
    "    \n",
    "    # Calling the function and printing the result\n",
    "    grade = calculate_grade(score)\n",
    "    print(f\"The student's grade is: {grade}\")\n",
    "except ValueError:\n",
    "    print(\"Please enter a valid numerical score.\")\n"
   ]
  },
  {
   "cell_type": "code",
   "execution_count": 11,
   "id": "235b2e5b-af95-458c-a6b5-7bb8121f02d1",
   "metadata": {},
   "outputs": [
    {
     "name": "stdin",
     "output_type": "stream",
     "text": [
      "Enter the first number:  5\n",
      "Enter the second number:  7\n",
      "Enter the third number:  4\n"
     ]
    },
    {
     "name": "stdout",
     "output_type": "stream",
     "text": [
      "The largest of 5.0, 7.0, and 4.0 is: 7.0\n"
     ]
    }
   ],
   "source": [
    "# Function to find the largest of three numbers\n",
    "def find_largest(num1, num2, num3):\n",
    "    if num1 >= num2:\n",
    "        if num1 >= num3:\n",
    "            return num1\n",
    "        else:\n",
    "            return num3\n",
    "    else:\n",
    "        if num2 >= num3:\n",
    "            return num2\n",
    "        else:\n",
    "            return num3\n",
    "\n",
    "# Taking user input for three numbers\n",
    "try:\n",
    "    number1 = float(input(\"Enter the first number: \"))\n",
    "    number2 = float(input(\"Enter the second number: \"))\n",
    "    number3 = float(input(\"Enter the third number: \"))\n",
    "    \n",
    "    # Calling the function and printing the result\n",
    "    largest = find_largest(number1, number2, number3)\n",
    "    print(f\"The largest of {number1}, {number2}, and {number3} is: {largest}\")\n",
    "except ValueError:\n",
    "    print(\"Please enter valid numbers.\")\n"
   ]
  },
  {
   "cell_type": "code",
   "execution_count": 12,
   "id": "1ccbd5c5-c493-41f9-85ea-9ded4f8951d6",
   "metadata": {},
   "outputs": [
    {
     "name": "stdin",
     "output_type": "stream",
     "text": [
      "Enter the length of the first side:  15\n",
      "Enter the length of the second side:  15\n",
      "Enter the length of the third side:  15\n"
     ]
    },
    {
     "name": "stdout",
     "output_type": "stream",
     "text": [
      "The triangle with sides 15.0, 15.0, and 15.0 is a Equilateral triangle.\n"
     ]
    }
   ],
   "source": [
    "def classify_triangle(side1, side2, side3):\n",
    "    if side1 <= 0 or side2 <= 0 or side3 <= 0:\n",
    "        return \"Invalid triangle: All sides must be greater than zero.\"\n",
    "    \n",
    "    if side1 == side2 == side3:\n",
    "        return \"Equilateral triangle\"\n",
    "    elif side1 == side2 or side1 == side3 or side2 == side3:\n",
    "        return \"Isosceles triangle\"\n",
    "    else:\n",
    "        return \"Scalene triangle\"\n",
    "\n",
    "# Taking user input for the lengths of three sides\n",
    "try:\n",
    "    side1 = float(input(\"Enter the length of the first side: \"))\n",
    "    side2 = float(input(\"Enter the length of the second side: \"))\n",
    "    side3 = float(input(\"Enter the length of the third side: \"))\n",
    "    \n",
    "    # Calling the function and printing the result\n",
    "    result = classify_triangle(side1, side2, side3)\n",
    "    print(f\"The triangle with sides {side1}, {side2}, and {side3} is a {result}.\")\n",
    "except ValueError:\n",
    "    print(\"Please enter valid numerical values for the side lengths.\")\n"
   ]
  },
  {
   "cell_type": "code",
   "execution_count": 13,
   "id": "3229ba87-b7d4-446d-916a-35bb2d2174c7",
   "metadata": {},
   "outputs": [
    {
     "name": "stdin",
     "output_type": "stream",
     "text": [
      "Enter a year:  2012\n"
     ]
    },
    {
     "name": "stdout",
     "output_type": "stream",
     "text": [
      "2012 is a leap year.\n",
      "2012 is not a century year.\n"
     ]
    }
   ],
   "source": [
    "def is_leap_year(year):\n",
    "    if (year % 4 == 0 and year % 100 != 0) or (year % 400 == 0):\n",
    "        return True\n",
    "    else:\n",
    "        return False\n",
    "\n",
    "def is_century_year(year):\n",
    "    if year % 100 == 0:\n",
    "        return True\n",
    "    else:\n",
    "        return False\n",
    "\n",
    "# Taking user input for the year\n",
    "try:\n",
    "    user_input = int(input(\"Enter a year: \"))\n",
    "    \n",
    "    # Checking if the entered year is a leap year\n",
    "    if is_leap_year(user_input):\n",
    "        print(f\"{user_input} is a leap year.\")\n",
    "        \n",
    "        # Checking if it is a century year\n",
    "        if is_century_year(user_input):\n",
    "            print(f\"{user_input} is also a century year.\")\n",
    "        else:\n",
    "            print(f\"{user_input} is not a century year.\")\n",
    "    else:\n",
    "        print(f\"{user_input} is not a leap year.\")\n",
    "except ValueError:\n",
    "    print(\"Please enter a valid year as a number.\")\n"
   ]
  },
  {
   "cell_type": "code",
   "execution_count": 14,
   "id": "13e05829-5810-479c-98ca-7244380c1219",
   "metadata": {},
   "outputs": [
    {
     "name": "stdin",
     "output_type": "stream",
     "text": [
      "Enter a number:  75\n"
     ]
    },
    {
     "name": "stdout",
     "output_type": "stream",
     "text": [
      "The number 75.0 is Positive.\n"
     ]
    }
   ],
   "source": [
    "def check_positive_negative_zero(number):\n",
    "    if number > 0:\n",
    "        return \"Positive\"\n",
    "    elif number < 0:\n",
    "        return \"Negative\"\n",
    "    else:\n",
    "        return \"Zero\"\n",
    "\n",
    "# Taking user input for the number\n",
    "try:\n",
    "    user_input = float(input(\"Enter a number: \"))\n",
    "    \n",
    "    # Calling the function and printing the result\n",
    "    result = check_positive_negative_zero(user_input)\n",
    "    print(f\"The number {user_input} is {result}.\")\n",
    "except ValueError:\n",
    "    print(\"Please enter a valid number.\")\n"
   ]
  },
  {
   "cell_type": "code",
   "execution_count": 15,
   "id": "633f2e1c-95d6-4a1d-a532-0787326457e3",
   "metadata": {},
   "outputs": [
    {
     "name": "stdin",
     "output_type": "stream",
     "text": [
      "Enter the person's age:  84\n"
     ]
    },
    {
     "name": "stdout",
     "output_type": "stream",
     "text": [
      "The person is not a teenager.\n"
     ]
    }
   ],
   "source": [
    "def is_teenager(age):\n",
    "    if 13 <= age <= 19:\n",
    "        return True\n",
    "    else:\n",
    "        return False\n",
    "\n",
    "# Taking user input for age\n",
    "try:\n",
    "    age = int(input(\"Enter the person's age: \"))\n",
    "    \n",
    "    # Calling the function and printing the result\n",
    "    if is_teenager(age):\n",
    "        print(\"The person is a teenager.\")\n",
    "    else:\n",
    "        print(\"The person is not a teenager.\")\n",
    "except ValueError:\n",
    "    print(\"Please enter a valid age as a number.\")\n"
   ]
  },
  {
   "cell_type": "code",
   "execution_count": 16,
   "id": "f001c8f6-3621-4cce-98d8-954970640670",
   "metadata": {},
   "outputs": [
    {
     "name": "stdin",
     "output_type": "stream",
     "text": [
      "Enter the angle measure in degrees:  54\n"
     ]
    },
    {
     "name": "stdout",
     "output_type": "stream",
     "text": [
      "The angle with measure 54.0 degrees is a Acute Angle.\n"
     ]
    }
   ],
   "source": [
    "def classify_angle(angle):\n",
    "    if angle > 0 and angle < 90:\n",
    "        return \"Acute Angle\"\n",
    "    elif angle == 90:\n",
    "        return \"Right Angle\"\n",
    "    elif angle > 90 and angle < 180:\n",
    "        return \"Obtuse Angle\"\n",
    "    elif angle == 180:\n",
    "        return \"Straight Angle\"\n",
    "    elif angle > 180:\n",
    "        return \"Reflex Angle\"\n",
    "    else:\n",
    "        return \"Invalid Angle\"\n",
    "\n",
    "# Taking user input for the angle measure\n",
    "try:\n",
    "    angle = float(input(\"Enter the angle measure in degrees: \"))\n",
    "    \n",
    "    # Calling the function and printing the result\n",
    "    result = classify_angle(angle)\n",
    "    print(f\"The angle with measure {angle} degrees is a {result}.\")\n",
    "except ValueError:\n",
    "    print(\"Please enter a valid numerical angle measure.\")\n"
   ]
  },
  {
   "cell_type": "code",
   "execution_count": 17,
   "id": "1f7f66b2-f914-4c4e-8de2-aa7435021eb4",
   "metadata": {},
   "outputs": [
    {
     "name": "stdin",
     "output_type": "stream",
     "text": [
      "Enter the coefficient 'a':  50\n",
      "Enter the coefficient 'b':  47\n",
      "Enter the coefficient 'c':  15\n"
     ]
    },
    {
     "name": "stdout",
     "output_type": "stream",
     "text": [
      "The roots of the quadratic equation are: ((-0.47+0.2812472222085047j), (-0.47-0.2812472222085047j))\n"
     ]
    }
   ],
   "source": [
    "import math\n",
    "\n",
    "def calculate_roots(a, b, c):\n",
    "    # Calculate the discriminant\n",
    "    discriminant = b**2 - 4*a*c\n",
    "    \n",
    "    # Check if the discriminant is non-negative\n",
    "    if discriminant >= 0:\n",
    "        # Calculate the roots\n",
    "        root1 = (-b + math.sqrt(discriminant)) / (2*a)\n",
    "        root2 = (-b - math.sqrt(discriminant)) / (2*a)\n",
    "        return root1, root2\n",
    "    else:\n",
    "        # If discriminant is negative, roots are complex numbers\n",
    "        real_part = -b / (2*a)\n",
    "        imaginary_part = math.sqrt(abs(discriminant)) / (2*a)\n",
    "        root1 = complex(real_part, imaginary_part)\n",
    "        root2 = complex(real_part, -imaginary_part)\n",
    "        return root1, root2\n",
    "\n",
    "# Taking user input for the coefficients of the quadratic equation\n",
    "try:\n",
    "    a = float(input(\"Enter the coefficient 'a': \"))\n",
    "    b = float(input(\"Enter the coefficient 'b': \"))\n",
    "    c = float(input(\"Enter the coefficient 'c': \"))\n",
    "    \n",
    "    # Calling the function and printing the result\n",
    "    roots = calculate_roots(a, b, c)\n",
    "    print(f\"The roots of the quadratic equation are: {roots}\")\n",
    "except ValueError:\n",
    "    print(\"Please enter valid numerical coefficients.\")\n",
    "\n",
    "    "
   ]
  },
  {
   "cell_type": "code",
   "execution_count": 18,
   "id": "453a422d-3638-4310-9def-5f6516d78672",
   "metadata": {},
   "outputs": [
    {
     "name": "stdin",
     "output_type": "stream",
     "text": [
      "Enter a number (1 for Monday, 2 for Tuesday, etc.):  5\n"
     ]
    },
    {
     "name": "stdout",
     "output_type": "stream",
     "text": [
      "The day corresponding to number 5 is Friday.\n"
     ]
    }
   ],
   "source": [
    "def determine_day_of_week(day_number):\n",
    "    days_of_week = [\"Monday\", \"Tuesday\", \"Wednesday\", \"Thursday\", \"Friday\", \"Saturday\", \"Sunday\"]\n",
    "\n",
    "    if 1 <= day_number <= 7:\n",
    "        return days_of_week[day_number - 1]\n",
    "    else:\n",
    "        return \"Invalid day number\"\n",
    "\n",
    "# Taking user input for the day number\n",
    "try:\n",
    "    day_number = int(input(\"Enter a number (1 for Monday, 2 for Tuesday, etc.): \"))\n",
    "    \n",
    "    # Calling the function and printing the result\n",
    "    result = determine_day_of_week(day_number)\n",
    "    print(f\"The day corresponding to number {day_number} is {result}.\")\n",
    "except ValueError:\n",
    "    print(\"Please enter a valid numerical day number.\")\n",
    "\n"
   ]
  },
  {
   "cell_type": "code",
   "execution_count": 19,
   "id": "47fde1b9-eecd-430d-ba9a-112bfcda2042",
   "metadata": {},
   "outputs": [
    {
     "name": "stdin",
     "output_type": "stream",
     "text": [
      "Enter a year:  1987\n"
     ]
    },
    {
     "name": "stdout",
     "output_type": "stream",
     "text": [
      "1987 is not a leap year.\n"
     ]
    }
   ],
   "source": [
    "def is_leap_year(year):\n",
    "    if (year % 4 == 0 and year % 100 != 0) or (year % 400 == 0):\n",
    "        return True\n",
    "    else:\n",
    "        return False\n",
    "\n",
    "# Taking user input for the year\n",
    "try:\n",
    "    user_input = int(input(\"Enter a year: \"))\n",
    "    \n",
    "    # Checking if the entered year is a leap year and divisible by 400\n",
    "    if is_leap_year(user_input):\n",
    "        print(f\"{user_input} is a leap year.\")\n",
    "        \n",
    "        if user_input % 400 == 0:\n",
    "            print(f\"{user_input} is also evenly divisible by 400.\")\n",
    "        else:\n",
    "            print(f\"{user_input} is not evenly divisible by 400.\")\n",
    "    else:\n",
    "        print(f\"{user_input} is not a leap year.\")\n",
    "except ValueError:\n",
    "    print(\"Please enter a valid year as a number.\")\n",
    "\n",
    "    "
   ]
  },
  {
   "cell_type": "code",
   "execution_count": 1,
   "id": "84a7c554-473c-4b08-9718-4a76b89b4300",
   "metadata": {},
   "outputs": [
    {
     "name": "stdin",
     "output_type": "stream",
     "text": [
      "Enter a number:  56\n"
     ]
    },
    {
     "name": "stdout",
     "output_type": "stream",
     "text": [
      "56 is not a prime number.\n"
     ]
    }
   ],
   "source": [
    "def is_prime(number):\n",
    "    if number > 1:\n",
    "        for i in range(2, int(number**0.5) + 1):\n",
    "            if number % i == 0:\n",
    "                return False\n",
    "        return True\n",
    "    else:\n",
    "        return False\n",
    "\n",
    "# Taking user input for the number\n",
    "try:\n",
    "    user_input = int(input(\"Enter a number: \"))\n",
    "    \n",
    "    # Calling the function and printing the result\n",
    "    if is_prime(user_input):\n",
    "        print(f\"{user_input} is a prime number.\")\n",
    "    else:\n",
    "        print(f\"{user_input} is not a prime number.\")\n",
    "except ValueError:\n",
    "    print(\"Please enter a valid number.\")\n"
   ]
  },
  {
   "cell_type": "code",
   "execution_count": 2,
   "id": "22fe716e-0a03-4e6e-b98a-c6a42539f3bd",
   "metadata": {},
   "outputs": [
    {
     "name": "stdin",
     "output_type": "stream",
     "text": [
      "Enter the student's score:  97\n"
     ]
    },
    {
     "name": "stdout",
     "output_type": "stream",
     "text": [
      "The student's grade is: A\n"
     ]
    }
   ],
   "source": [
    "def assign_grade(score):\n",
    "    if 90 <= score <= 100:\n",
    "        return \"A\"\n",
    "    elif 80 <= score < 90:\n",
    "        return \"B\"\n",
    "    elif 70 <= score < 80:\n",
    "        return \"C\"\n",
    "    elif 60 <= score < 70:\n",
    "        return \"D\"\n",
    "    elif 0 <= score < 60:\n",
    "        return \"F\"\n",
    "    else:\n",
    "        return \"Invalid Score\"\n",
    "\n",
    "# Taking user input for the score\n",
    "try:\n",
    "    score = float(input(\"Enter the student's score: \"))\n",
    "    \n",
    "    # Calling the function and printing the result\n",
    "    grade = assign_grade(score)\n",
    "    print(f\"The student's grade is: {grade}\")\n",
    "except ValueError:\n",
    "    print(\"Please enter a valid numerical score.\")\n"
   ]
  },
  {
   "cell_type": "code",
   "execution_count": 3,
   "id": "6c5680cb-0088-4f4b-9edc-21ba312923f5",
   "metadata": {},
   "outputs": [
    {
     "name": "stdin",
     "output_type": "stream",
     "text": [
      "Enter the first angle:  15\n",
      "Enter the second angle:  45\n",
      "Enter the third angle:  11\n"
     ]
    },
    {
     "name": "stdout",
     "output_type": "stream",
     "text": [
      "The triangle with angles 15.0, 45.0, and 11.0 is a Invalid Triangle (Angles do not add up to 180 degrees).\n"
     ]
    }
   ],
   "source": [
    "def triangle_type(angle1, angle2, angle3):\n",
    "    if angle1 + angle2 + angle3 == 180:\n",
    "        if angle1 == angle2 == angle3:\n",
    "            return \"Equilateral Triangle\"\n",
    "        elif angle1 == angle2 or angle1 == angle3 or angle2 == angle3:\n",
    "            return \"Isosceles Triangle\"\n",
    "        else:\n",
    "            return \"Scalene Triangle\"\n",
    "    else:\n",
    "        return \"Invalid Triangle (Angles do not add up to 180 degrees)\"\n",
    "\n",
    "# Taking user input for the three angles of the triangle\n",
    "try:\n",
    "    angle1 = float(input(\"Enter the first angle: \"))\n",
    "    angle2 = float(input(\"Enter the second angle: \"))\n",
    "    angle3 = float(input(\"Enter the third angle: \"))\n",
    "    \n",
    "    # Calling the function and printing the result\n",
    "    result = triangle_type(angle1, angle2, angle3)\n",
    "    print(f\"The triangle with angles {angle1}, {angle2}, and {angle3} is a {result}.\")\n",
    "except ValueError:\n",
    "    print(\"Please enter valid numerical values for the angles.\")\n"
   ]
  },
  {
   "cell_type": "code",
   "execution_count": 4,
   "id": "d69961a0-967c-48df-882f-a8eaaa21d58d",
   "metadata": {},
   "outputs": [
    {
     "name": "stdin",
     "output_type": "stream",
     "text": [
      "Enter the person's weight in kilograms:  58\n",
      "Enter the person's height in meters:  153\n"
     ]
    },
    {
     "name": "stdout",
     "output_type": "stream",
     "text": [
      "The person's BMI is 0.00, and they are categorized as Underweight.\n"
     ]
    }
   ],
   "source": [
    "def categorize_bmi(bmi):\n",
    "    if bmi < 18.5:\n",
    "        return \"Underweight\"\n",
    "    elif 18.5 <= bmi < 24.9:\n",
    "        return \"Normal Weight\"\n",
    "    elif 25 <= bmi < 29.9:\n",
    "        return \"Overweight\"\n",
    "    else:\n",
    "        return \"Obese\"\n",
    "\n",
    "# Taking user input for height and weight\n",
    "try:\n",
    "    weight = float(input(\"Enter the person's weight in kilograms: \"))\n",
    "    height = float(input(\"Enter the person's height in meters: \"))\n",
    "    \n",
    "    # Calculating BMI\n",
    "    bmi = weight / (height ** 2)\n",
    "    \n",
    "    # Calling the function and printing the result\n",
    "    result = categorize_bmi(bmi)\n",
    "    print(f\"The person's BMI is {bmi:.2f}, and they are categorized as {result}.\")\n",
    "except ValueError:\n",
    "    print(\"Please enter valid numerical values for weight and height.\")\n"
   ]
  },
  {
   "cell_type": "code",
   "execution_count": 5,
   "id": "9c893982-2352-4cab-ba37-8071d22c6396",
   "metadata": {},
   "outputs": [
    {
     "name": "stdin",
     "output_type": "stream",
     "text": [
      "Enter a number:  -54\n"
     ]
    },
    {
     "name": "stdout",
     "output_type": "stream",
     "text": [
      "The number -54.0 is Negative.\n"
     ]
    }
   ],
   "source": [
    "def check_positive_negative_zero(number):\n",
    "    if number > 0:\n",
    "        return \"Positive\"\n",
    "    elif number < 0:\n",
    "        return \"Negative\"\n",
    "    else:\n",
    "        return \"Zero\"\n",
    "\n",
    "# Taking user input for the number\n",
    "try:\n",
    "    user_input = float(input(\"Enter a number: \"))\n",
    "    \n",
    "    # Calling the function and printing the result\n",
    "    result = check_positive_negative_zero(user_input)\n",
    "    print(f\"The number {user_input} is {result}.\")\n",
    "except ValueError:\n",
    "    print(\"Please enter a valid number.\")\n"
   ]
  },
  {
   "cell_type": "code",
   "execution_count": 7,
   "id": "f1eb2bdc-d343-40ce-9fd0-df477071af56",
   "metadata": {},
   "outputs": [
    {
     "name": "stdin",
     "output_type": "stream",
     "text": [
      "Enter a character:  P\n"
     ]
    },
    {
     "name": "stdout",
     "output_type": "stream",
     "text": [
      "The character 'P' is Uppercase.\n"
     ]
    }
   ],
   "source": [
    "def check_character_type(char):\n",
    "    if char.isupper():\n",
    "        return \"Uppercase\"\n",
    "    elif char.islower():\n",
    "        return \"Lowercase\"\n",
    "    elif not char.isalpha():\n",
    "        return \"Special Character\"\n",
    "    else:\n",
    "        return \"Unknown\"\n",
    "\n",
    "# Taking user input for a character\n",
    "try:\n",
    "    user_input = input(\"Enter a character: \")\n",
    "\n",
    "    # Checking if the entered character is a single character\n",
    "    if len(user_input) == 1:\n",
    "        # Calling the function and printing the result\n",
    "        result = check_character_type(user_input)\n",
    "        print(f\"The character '{user_input}' is {result}.\")\n",
    "    else:\n",
    "        print(\"Please enter a single character.\")\n",
    "except ValueError:\n",
    "    print(\"Please enter a valid character.\")\n"
   ]
  },
  {
   "cell_type": "code",
   "execution_count": 9,
   "id": "34091247-105b-4395-9c82-25a721086e4d",
   "metadata": {},
   "outputs": [
    {
     "name": "stdin",
     "output_type": "stream",
     "text": [
      "Enter the purchase amount:  1000\n"
     ]
    },
    {
     "name": "stdout",
     "output_type": "stream",
     "text": [
      "The discounted price for a purchase of ₹1000.00 is ₹900.00.\n"
     ]
    }
   ],
   "source": [
    "def calculate_discounted_price(purchase_amount):\n",
    "    if purchase_amount >= 1000:\n",
    "        discount_rate = 0.1\n",
    "    elif purchase_amount >= 500:\n",
    "        discount_rate = 0.05\n",
    "    else:\n",
    "        discount_rate = 0\n",
    "\n",
    "    discounted_price = purchase_amount - (purchase_amount * discount_rate)\n",
    "    return discounted_price\n",
    "\n",
    "# Taking user input for the purchase amount\n",
    "try:\n",
    "    purchase_amount = float(input(\"Enter the purchase amount: \"))\n",
    "    \n",
    "    # Calling the function and printing the result\n",
    "    discounted_price = calculate_discounted_price(purchase_amount)\n",
    "    print(f\"The discounted price for a purchase of ₹{purchase_amount:.2f} is ₹{discounted_price:.2f}.\")\n",
    "except ValueError:\n",
    "    print(\"Please enter a valid numerical purchase amount.\")\n"
   ]
  },
  {
   "cell_type": "code",
   "execution_count": 11,
   "id": "563c5b51-a1c4-4abb-a19e-cab2cf5d0c85",
   "metadata": {},
   "outputs": [
    {
     "name": "stdin",
     "output_type": "stream",
     "text": [
      "Enter the units consumed:  500\n"
     ]
    },
    {
     "name": "stdout",
     "output_type": "stream",
     "text": [
      "The electricity bill for 500.0 units is ₹4250.00.\n"
     ]
    }
   ],
   "source": [
    "def calculate_electricity_bill(units_consumed):\n",
    "    if units_consumed <= 50:\n",
    "        rate = 2.50\n",
    "    elif units_consumed <= 100:\n",
    "        rate = 4.00\n",
    "    elif units_consumed <= 200:\n",
    "        rate = 5.50\n",
    "    elif units_consumed <= 300:\n",
    "        rate = 7.00\n",
    "    else:\n",
    "        rate = 8.50\n",
    "\n",
    "    electricity_bill = units_consumed * rate\n",
    "    return electricity_bill\n",
    "\n",
    "# Taking user input for the units consumed\n",
    "try:\n",
    "    units_consumed = float(input(\"Enter the units consumed: \"))\n",
    "    \n",
    "    # Calling the function and printing the result\n",
    "    bill_amount = calculate_electricity_bill(units_consumed)\n",
    "    print(f\"The electricity bill for {units_consumed} units is ₹{bill_amount:.2f}.\")\n",
    "except ValueError:\n",
    "    print(\"Please enter a valid numerical value for units consumed.\")\n"
   ]
  },
  {
   "cell_type": "code",
   "execution_count": 12,
   "id": "67957aab-1b6c-4f20-9f61-bcfb69ea7d3d",
   "metadata": {},
   "outputs": [
    {
     "name": "stdin",
     "output_type": "stream",
     "text": [
      "Enter the number of sides of the quadrilateral:  4\n",
      "Enter the sum of angles of the quadrilateral:  8\n",
      "Enter angle 1:  45\n",
      "Enter angle 2:  45\n",
      "Enter angle 3:  45\n",
      "Enter angle 4:  45\n"
     ]
    },
    {
     "name": "stdout",
     "output_type": "stream",
     "text": [
      "The quadrilateral is a Invalid Quadrilateral.\n"
     ]
    }
   ],
   "source": [
    "def classify_quadrilateral(num_sides, angle_sum):\n",
    "    if num_sides == 4 and angle_sum == 360:\n",
    "        if all(isinstance(angle, int) and 0 < angle < 180 for angle in angles):\n",
    "            if angles[0] == angles[1] == angles[2] == angles[3]:\n",
    "                return \"Square\"\n",
    "            elif angles[0] == angles[2] and angles[1] == angles[3]:\n",
    "                return \"Rectangle\"\n",
    "            elif angles[0] == angles[2] and angles[1] == angles[3] == 90:\n",
    "                return \"Rhombus\"\n",
    "            else:\n",
    "                return \"Quadrilateral\"\n",
    "        else:\n",
    "            return \"Invalid Angles\"\n",
    "    else:\n",
    "        return \"Invalid Quadrilateral\"\n",
    "\n",
    "# Taking user input for the number of sides and sum of angles\n",
    "try:\n",
    "    num_sides = int(input(\"Enter the number of sides of the quadrilateral: \"))\n",
    "    angle_sum = int(input(\"Enter the sum of angles of the quadrilateral: \"))\n",
    "    angles = [int(input(f\"Enter angle {i + 1}: \")) for i in range(4)]\n",
    "\n",
    "    # Calling the function and printing the result\n",
    "    result = classify_quadrilateral(num_sides, angle_sum)\n",
    "    print(f\"The quadrilateral is a {result}.\")\n",
    "except ValueError:\n",
    "    print(\"Please enter valid numerical values for the number of sides, sum of angles, and angles.\")\n"
   ]
  },
  {
   "cell_type": "code",
   "execution_count": 13,
   "id": "205847bf-6b69-4699-b514-6e8cc3db45c8",
   "metadata": {},
   "outputs": [
    {
     "name": "stdin",
     "output_type": "stream",
     "text": [
      "Enter a month (1-12):  5\n"
     ]
    },
    {
     "name": "stdout",
     "output_type": "stream",
     "text": [
      "The season for month 5 is Spring.\n"
     ]
    }
   ],
   "source": [
    "def determine_season(month):\n",
    "    if month in [12, 1, 2]:\n",
    "        return \"Winter\"\n",
    "    elif month in [3, 4, 5]:\n",
    "        return \"Spring\"\n",
    "    elif month in [6, 7, 8]:\n",
    "        return \"Summer\"\n",
    "    elif month in [9, 10, 11]:\n",
    "        return \"Autumn\"\n",
    "    else:\n",
    "        return \"Invalid Month\"\n",
    "\n",
    "# Taking user input for the month\n",
    "try:\n",
    "    month = int(input(\"Enter a month (1-12): \"))\n",
    "    \n",
    "    # Calling the function and printing the result\n",
    "    season = determine_season(month)\n",
    "    print(f\"The season for month {month} is {season}.\")\n",
    "except ValueError:\n",
    "    print(\"Please enter a valid numerical month.\")\n"
   ]
  },
  {
   "cell_type": "code",
   "execution_count": 15,
   "id": "fd315c6c-f37c-4011-b7af-fe07837b5bf1",
   "metadata": {},
   "outputs": [
    {
     "name": "stdin",
     "output_type": "stream",
     "text": [
      "Enter a year:  2012\n",
      "Enter a month (1-12):  6\n"
     ]
    },
    {
     "name": "stdout",
     "output_type": "stream",
     "text": [
      "The year 2012 is a leap year.\n",
      "The month 6 has 30 days.\n"
     ]
    }
   ],
   "source": [
    "def is_leap_year(year):\n",
    "    if (year % 4 == 0 and year % 100 != 0) or (year % 400 == 0):\n",
    "        return True\n",
    "    else:\n",
    "        return False\n",
    "\n",
    "def days_in_month(month, year):\n",
    "    if month in [1, 3, 5, 7, 8, 10, 12]:\n",
    "        return 31\n",
    "    elif month in [4, 6, 9, 11]:\n",
    "        return 30\n",
    "    elif month == 2:\n",
    "        return 29 if is_leap_year(year) else 28\n",
    "    else:\n",
    "        return -1  # Invalid month\n",
    "\n",
    "# Taking user input for the year and month\n",
    "try:\n",
    "    year = int(input(\"Enter a year: \"))\n",
    "    month = int(input(\"Enter a month (1-12): \"))\n",
    "    \n",
    "    # Calling the functions and printing the results\n",
    "    leap_year_result = \"leap\" if is_leap_year(year) else \"common\"\n",
    "    days_result = days_in_month(month, year)\n",
    "\n",
    "    if days_result == -1:\n",
    "        print(\"Invalid month. Please enter a month between 1 and 12.\")\n",
    "    else:\n",
    "        print(f\"The year {year} is a {leap_year_result} year.\")\n",
    "        print(f\"The month {month} has {days_result} days.\")\n",
    "except ValueError:\n",
    "    print(\"Please enter valid numerical values for the year and month.\")\n",
    "\n"
   ]
  },
  {
   "cell_type": "code",
   "execution_count": null,
   "id": "3af3ad6c-678c-43b7-b17e-b480094f0b27",
   "metadata": {},
   "outputs": [],
   "source": []
  }
 ],
 "metadata": {
  "kernelspec": {
   "display_name": "Python 3 (ipykernel)",
   "language": "python",
   "name": "python3"
  },
  "language_info": {
   "codemirror_mode": {
    "name": "ipython",
    "version": 3
   },
   "file_extension": ".py",
   "mimetype": "text/x-python",
   "name": "python",
   "nbconvert_exporter": "python",
   "pygments_lexer": "ipython3",
   "version": "3.10.8"
  }
 },
 "nbformat": 4,
 "nbformat_minor": 5
}
